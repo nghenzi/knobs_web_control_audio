{
 "cells": [
  {
   "cell_type": "markdown",
   "metadata": {},
   "source": [
    "# Imports"
   ]
  },
  {
   "cell_type": "code",
   "execution_count": 1,
   "metadata": {},
   "outputs": [],
   "source": [
    "import panel as pn\n",
    "import os\n",
    "# pn.config.js_files = {'web-audio-controls': \"https://g200kg.github.io/webaudio-controls/webaudio-controls.js\"}\n",
    "pn.config.js_files = {'web-audio-controls': \"./assets/js/web-audio-controls.js\",\n",
    "                        'jquery':\"https://cdnjs.cloudflare.com/ajax/libs/jquery/3.5.1/jquery.min.js\"\n",
    "                        }"
   ]
  },
  {
   "cell_type": "markdown",
   "metadata": {},
   "source": [
    "# Get the images for the knobs"
   ]
  },
  {
   "cell_type": "code",
   "execution_count": 2,
   "metadata": {},
   "outputs": [
    {
     "name": "stderr",
     "output_type": "stream",
     "text": [
      "WARNING:param.Select: Displaying Panel objects in the notebook requires the panel extension to be loaded. Ensure you run pn.extension() before displaying objects in the notebook.\n"
     ]
    },
    {
     "data": {
      "text/plain": [
       "Select(options=['Aqua.png', 'Carbon.png',...], value='Aqua.png')"
      ]
     },
     "execution_count": 2,
     "metadata": {},
     "output_type": "execute_result"
    }
   ],
   "source": [
    "os.chdir('./assets/knobs')\n",
    "os.listdir()\n",
    "import glob\n",
    "png_files = glob.glob('*.png')\n",
    "select = pn.widgets.Select(name='Select', options=png_files)\n",
    "select"
   ]
  },
  {
   "cell_type": "markdown",
   "metadata": {},
   "source": [
    "# Include the divs in a html pane"
   ]
  },
  {
   "cell_type": "code",
   "execution_count": 6,
   "metadata": {},
   "outputs": [],
   "source": [
    "js1 = \"\"\"\n",
    "<style> body {background-color: #cccccc;}\n",
    "</style>\n",
    "\n",
    "<div id=\"hol\"=\"\"> \n",
    "    <webaudio-knob id=\"knb4\"\n",
    "        src=\"./assets/knobs/\"\"\"\n",
    "        \n",
    "js2 =        \"\"\"\" diameter=\"64\">\n",
    "    </webaudio-knob>\n",
    "\n",
    " </div>\n",
    "\n",
    "\n",
    "<script>\n",
    "document.getElementById(\"knb4\").addEventListener(\"input\", (event)=>{\n",
    "  Bokeh.documents[0].get_model_by_name('bk_sli').value = event.target.value;\n",
    "  })\n",
    "\n",
    "</script>\n",
    "\n",
    "\"\"\""
   ]
  },
  {
   "cell_type": "markdown",
   "metadata": {},
   "source": [
    "# Coupling of the js knobs with python slider"
   ]
  },
  {
   "cell_type": "code",
   "execution_count": 7,
   "metadata": {},
   "outputs": [
    {
     "name": "stdout",
     "output_type": "stream",
     "text": [
      "Launching server at http://localhost:56945\n"
     ]
    },
    {
     "data": {
      "text/plain": [
       "<bokeh.server.server.Server at 0x1cfd080bb08>"
      ]
     },
     "execution_count": 7,
     "metadata": {},
     "output_type": "execute_result"
    }
   ],
   "source": [
    "\n",
    "STYLE = \"\"\"\n",
    "body {\n",
    "margin: 0px;\n",
    "min_height: 100vh;\n",
    "}\n",
    ".bk.app-bar {\n",
    "background: #212121;\n",
    "border-color: white;\n",
    "box-shadow: 5px 5px 20px #9E9E9E;\n",
    "color: #ffffff;\n",
    "z-index: 50;\n",
    "}\n",
    "\n",
    "\"\"\"\n",
    "\n",
    "\n",
    "pn.config.raw_css.append(STYLE)\n",
    "\n",
    "top_bar = pn.Row(pn.pane.Markdown(\"# Dashboard\", margin=(10, 5, 10, 25)),\n",
    "                        pn.Spacer(height=0),\n",
    "                        pn.pane.PNG(\n",
    "                            \"https://panel.holoviz.org/_static/logo_horizontal.png\",\n",
    "                            width=200,\n",
    "                            sizing_mode=\"fixed\",\n",
    "                            align=\"center\",\n",
    "                            margin=(10, 50, 10, 5),\n",
    "                        ),\n",
    "                        css_classes=[\"app-bar\"],\n",
    "                         width= 600\n",
    "                    )\n",
    "\n",
    "os.chdir('C:\\\\react/')\n",
    "\n",
    "# Metal_Guitar_star_knob_slide_kontakt_ni\n",
    "\n",
    "from bokeh.layouts import column\n",
    "from bokeh.models import ColumnDataSource, CustomJS, Slider\n",
    "from bokeh.plotting import Figure, output_file, show\n",
    "\n",
    "# output_file(\"js_on_change.html\")\n",
    "\n",
    "x = [x*0.005 for x in range(0, 200)]\n",
    "y = x\n",
    "\n",
    "source = ColumnDataSource(data=dict(x=x, y=y))\n",
    "\n",
    "plot = Figure(plot_width=400, plot_height=400)\n",
    "plot.line('x', 'y', source=source, line_width=3, line_alpha=0.6)\n",
    "plot.background_fill_color = '#cccccc'\n",
    "plot.border_fill_color = '#cccccc'\n",
    "\n",
    "sli =  Slider(value= 5, start=0, end = 100, name= \"bk_sli\", visible=True)\n",
    "\n",
    "callback = callback = CustomJS(args=dict(source=source), code=\"\"\" \n",
    "document.getElementById(\"knb4\").value = cb_obj.value;\n",
    "   var data = source.data;\n",
    "    var f = cb_obj.value/100.*4.+0.1\n",
    "    var x = data['x']\n",
    "    var y = data['y']\n",
    "    for (var i = 0; i < x.length; i++) {\n",
    "        y[i] = Math.pow(x[i], f)\n",
    "    }\n",
    "    source.change.emit();\n",
    "\n",
    "\"\"\")\n",
    "\n",
    "sli.js_on_change('value', callback)\n",
    "\n",
    "# document.getElementById(\"knb4\").value = 80\n",
    "\n",
    "guitar_knob = pn.pane.HTML(js1+select.value+js2, width=80)\n",
    "\n",
    "@pn.depends(select.param.value, watch=True)\n",
    "def update_knob(e):\n",
    "    guitar_knob.object = js1+select.value+js2\n",
    "\n",
    "pn.Column(top_bar,select, sli, \n",
    "        pn.Row(guitar_knob, plot)\n",
    "        ).show('knobs',static_dirs={'assets': './assets'})"
   ]
  }
 ],
 "metadata": {
  "kernelspec": {
   "display_name": "Python 3",
   "language": "python",
   "name": "python3"
  },
  "language_info": {
   "codemirror_mode": {
    "name": "ipython",
    "version": 3
   },
   "file_extension": ".py",
   "mimetype": "text/x-python",
   "name": "python",
   "nbconvert_exporter": "python",
   "pygments_lexer": "ipython3",
   "version": "3.7.6"
  }
 },
 "nbformat": 4,
 "nbformat_minor": 4
}
